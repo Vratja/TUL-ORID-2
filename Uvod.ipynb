{
 "cells": [
  {
   "cell_type": "markdown",
   "id": "a7e0846c-a977-4cfd-9ea7-d4e7c71a6530",
   "metadata": {},
   "source": [
    "# TUL-ORID-2\n",
    "\n",
    "## Načítání a zpracování dat v R\n",
    "\n",
    "Autor: Vratislav Žabka\n",
    "\n",
    "Datum: 20. 6. 2025"
   ]
  },
  {
   "cell_type": "markdown",
   "id": "753bf4ca-e9d7-4729-aeb7-47a65f9daa5d",
   "metadata": {},
   "source": [
    "## 📋 Forma kurzu\n",
    "\n",
    "Tento kurz je zaměřen na praktické využití datové analýzy v prostředí jazyka R. Je určen pro všechny, kteří chtějí lépe porozumět datům, zefektivnit jejich prezentaci a získat základní dovednosti pro modelování závislostí mezi proměnnými.\n",
    "\n",
    "Kurz probíhá formou kombinace ukázkového kódu, výstupů a úloh k doplnění, které umožní účastníkům aktivně si procvičit danou problematiku. Není vyžadována předchozí zkušenost s programováním v R, stačí základní orientace v datové analýze.\n",
    "\n",
    "Cílem je porozumět základním principům a být schopen je aplikovat na vlastní data.\n",
    "\n",
    "## 📦 Použitá data\n",
    "\n",
    "Během kurzu budeme využívat známé volně dostupné datové sady `cars` a `mtcars`. V druhé části pak _poškozená_ data z fyzických analýz odpadu od INCIEN. Na těchto datových sadách si vyzkoušíte mimo jiné:\n",
    "\n",
    "- jak prozkoumávat a upravovat data pomocí funkcí z balíku `tidyverse`,\n",
    "- jak vytvářet přehledné a účelné grafy pomocí `ggplot2`,\n",
    "- jak sestavit a vyhodnotit jednoduché regresní modely,\n",
    "- jak porovnat různé modely z hlediska vhodnosti pro daná data."
   ]
  },
  {
   "cell_type": "markdown",
   "id": "c6cf6b07-7138-4ac3-ad90-8549cbc07bd5",
   "metadata": {},
   "source": [
    "## 🛠️ Použité nástroje a technologie\n",
    "\n",
    "Pro práci v tomto kurzu využíváme moderní a volně dostupné nástroje, které podporují interaktivní práci s daty, vizualizace a modelování v jazyce R:\n",
    "\n",
    "- **Jupyter Notebook**  \n",
    "  Interaktivní prostředí pro kombinaci kódu, textu a výstupů. Umožňuje přehledně dokumentovat analytický postup a výsledky v jednom souboru. V našem případě je nakonfigurováno pro jazyk **R**.\n",
    "\n",
    "- **R**  \n",
    "  Programovací jazyk zaměřený na statistické výpočty a analýzu dat. V kurzu jej mimo jiné využijeme pro zpracování dat, tvorbu grafů a budování regresních modelů.\n",
    "\n",
    "- **Tidyverse**  \n",
    "  Je kolekce vzájemně propojených balíků v jazyce R, které sdílejí jednotnou filozofii práce s daty a konzistentní způsob zápisu. V centru této filozofie stojí tzv. *tidy data*, kde:\n",
    "\n",
    "    - každý sloupec představuje jednu proměnnou,  \n",
    "    - každý řádek jeden záznam (pozorování),  \n",
    "    - každý soubor nebo tabulka jeden datový rámec.\n",
    "\n",
    "    Tidyverse podporuje plynulou práci s daty formou tzv. *pipeline* (řetězení kroků pomocí operátoru `%>%`), která zvyšuje čitelnost a udržovatelnost kódu. Díky jednotnému stylu je práce v Tidyverse přirozená, čitelná a snadno naučitelná, i pro uživatele bez hlubšího programátorského zázemí.\n",
    "\n",
    "- **Binder**  \n",
    "  Online nástroj, který umožňuje spustit interaktivní Jupyter Notebooky přímo z repozitáře na GitHubu – bez nutnosti instalace jakéhokoli softwaru na vlastním počítači. Díky tomu můžete pracovat v prostředí R a Jupyter odkudkoli z pohodlí svého oblíbeného webového prohlížeče.\n",
    "\n",
    "> Všechny materiály a potřebné knihovny jsou připraveny tak, aby bylo možné kurz spustit pomocí odkazu na Binder bez jakýchkoli předchozích instalací."
   ]
  },
  {
   "cell_type": "markdown",
   "id": "9e75a13f-559e-467e-bfb1-7bb8fb488b99",
   "metadata": {},
   "source": [
    "## Součásti kurzu\n",
    "\n",
    "**Tento úvodní dokument**\n",
    "[![open in Binder](https://mybinder.org/badge_logo.svg)](https://mybinder.org/v2/gh/Vratja/TUL-ORID-2/HEAD?filepath=Uvod.ipynb)\n",
    "\n",
    "  - Jeho cílem je představit obsah kurzu a základy práce s jednotlivými použitými technologiemi.\n",
    "---\n",
    "**Cvičení 01a - cars**\n",
    "[![open in Binder](https://mybinder.org/badge_logo.svg)](https://mybinder.org/v2/gh/Vratja/TUL-ORID-2/HEAD?filepath=01a-cars.ipynb)\n",
    "\n",
    "  - Dokument obsahuje návody a jednoduchá cvičení na průzkym datových sad, jejich filtrování, třídění a agregaci.\n",
    "---\n",
    "**Cvičení 01b - cars**\n",
    "[![open in Binder](https://mybinder.org/badge_logo.svg)](https://mybinder.org/v2/gh/Vratja/TUL-ORID-2/HEAD?filepath=01b-cars.ipynb)\n",
    "\n",
    "  - Rozšíření předchozího cvičení o vizualizace a základy regresní analýzy.\n",
    "---\n",
    "**Cvičení 02 - FAO**\n",
    "[![open in Binder](https://mybinder.org/badge_logo.svg)](https://mybinder.org/v2/gh/Vratja/TUL-ORID-2/HEAD?filepath=02-FAO.ipynb)\n",
    "\n",
    "  - Načtení a prvotní úprava zdrojových dat.\n",
    "---\n",
    "> Kliknutím na ikonu _launch binder_ spustíte příslušnou část ve svém prohlížeči. Načítání může trvat dále, ale práce s dokumentem je pak už rychlá.\n"
   ]
  },
  {
   "cell_type": "markdown",
   "id": "e76e7e37-7e99-46b6-b67a-14747af5cf59",
   "metadata": {},
   "source": [
    "## 📓 Práce v Jupyter Notebooku\r\n",
    "\r\n",
    "Jupyter Notebook je interaktivní prostředí, které umožňuje kombinovat text (včetně formátovaného pomocí Markdownu), kód a výstupy na jednom místě. Je ideální pro analýzu dat, vytváření reportů a výuku.\r\n",
    "\r\n",
    "### Základní ovládání\r\n",
    "\r\n",
    "- **Buňky**: Notebook je rozdělen na buňky, které mohou obsahovat buď kód, nebo text.\r\n",
    "- **Spuštění buňky**: Označ buňku a stiskni `Shift + Enter`.\r\n",
    "- **Přepínání typu buňky**: V horním menu nebo klávesou `Esc`, pak `M` pro text (Markdown), nebo `Y` pro kód.\r\n",
    "- **Ukládání**: Notebook se většinou ukládá automaticky, ale lze použít `Ctrl + S`."
   ]
  },
  {
   "cell_type": "code",
   "execution_count": null,
   "id": "15b4c6f2-9aec-4c35-847c-5a62c4d2247f",
   "metadata": {},
   "outputs": [],
   "source": [
    "# načtení balíčku funkcí\n",
    "library(tidyverse)\n",
    "\n",
    "# výpočet\n"
   ]
  },
  {
   "cell_type": "code",
   "execution_count": null,
   "id": "2d94140b-4076-42a8-bcbf-7ec25ab773f5",
   "metadata": {},
   "outputs": [],
   "source": [
    "# Vytvoření jednoduchého vektoru a výpočet průměru\n",
    "ceny <- c(100, 200, 150)\n",
    "mean(ceny)"
   ]
  },
  {
   "cell_type": "code",
   "execution_count": null,
   "id": "87e78e5e-ba4a-4095-a848-a56c370da785",
   "metadata": {},
   "outputs": [],
   "source": [
    "# ukázka řetězení kódu pomocí pipy z balíku dplyr\n",
    "mtcars %>%\n",
    "  select(mpg, cyl, hp, wt) %>%\n",
    "  filter(cyl == 6) %>%\n",
    "  filter(mpg > 20) %>%\n",
    "  arrange(wt)"
   ]
  },
  {
   "cell_type": "code",
   "execution_count": null,
   "id": "4c52b77f-ac72-4d68-ad47-2984af01ee96",
   "metadata": {},
   "outputs": [],
   "source": [
    "# ukázka tvorby grafu pomocí ggplot\n",
    "gg <- ggplot(data = mtcars, aes(x = hp, y = wt, col = mpg, size = mpg)) +\n",
    "  geom_point(alpha = 0.7) +\n",
    "  scale_color_viridis_c(option = \"plasma\") +\n",
    "  guides(color = guide_legend(), size = guide_legend()) +  # spojí legendu pokud size a col vychází z jenoho sloupce\n",
    "  scale_size(range = c(2, 10)) +\n",
    "  labs(\n",
    "    title = \"Závislost výkonu a hmotnosti na spotřebě\",\n",
    "    x = \"Výkon (hp)\",\n",
    "    y = \"Hmotnost (1000 lbs)\",\n",
    "    color = \"Spotřeba (mpg)\",\n",
    "    size = \"Spotřeba (mpg)\"\n",
    "  ) +\n",
    "  theme_minimal()\n",
    "\n",
    "gg"
   ]
  },
  {
   "cell_type": "code",
   "execution_count": null,
   "id": "0496f179-9d45-4d10-929a-41791e8d5033",
   "metadata": {},
   "outputs": [],
   "source": [
    "# interaktivní varianta\n",
    "library(plotly)\n",
    "ggplotly(gg)"
   ]
  }
 ],
 "metadata": {
  "kernelspec": {
   "display_name": "R 4.5",
   "language": "R",
   "name": "r-4.5"
  },
  "language_info": {
   "codemirror_mode": "r",
   "file_extension": ".r",
   "mimetype": "text/x-r-source",
   "name": "R",
   "pygments_lexer": "r",
   "version": "4.5.0"
  }
 },
 "nbformat": 4,
 "nbformat_minor": 5
}

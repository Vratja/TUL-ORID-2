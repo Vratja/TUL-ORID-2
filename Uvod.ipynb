{
 "cells": [
  {
   "cell_type": "markdown",
   "id": "69a4251f-7bc7-4fde-9cd9-f40fc5d849d2",
   "metadata": {},
   "source": [
    "\n",
    "### Použité balíčky\n",
    "V celém cvičení budeme využívat balíček `tidyverse`, který obsahuje nástroje jako:\n",
    "- `dplyr` (práce s datovými rámci)\n",
    "- `ggplot2` (vizualizace dat)\n",
    "- `readr`, `tibble`, `tidyr` (další pomocné nástroje)"
   ]
  },
  {
   "cell_type": "markdown",
   "id": "9e75a13f-559e-467e-bfb1-7bb8fb488b99",
   "metadata": {},
   "source": [
    "Nez se prejde k upravam dat, je potreba se naucit par zakladnich prikazu."
   ]
  }
 ],
 "metadata": {
  "kernelspec": {
   "display_name": "R",
   "language": "R",
   "name": "ir"
  },
  "language_info": {
   "codemirror_mode": "r",
   "file_extension": ".r",
   "mimetype": "text/x-r-source",
   "name": "R",
   "pygments_lexer": "r",
   "version": "3.6.1"
  }
 },
 "nbformat": 4,
 "nbformat_minor": 5
}

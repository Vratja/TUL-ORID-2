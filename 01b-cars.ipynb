{
 "cells": [
  {
   "cell_type": "markdown",
   "id": "2c48469e-152a-4679-8d13-c332dc4262a0",
   "metadata": {},
   "source": [
    "#  Vizualizace a regresní modely\n",
    "\n",
    "V tomto dokumentu se zaměříme na praktické použití vizualizací a regresních modelů v jazyce **R** s využitím balíčku `ggplot2`. Budeme pracovat se dvěma klasickými datasety `cars` a `mtcars`, na kterých si vyzkoušíme následující:\n",
    "\n",
    "- tvorbu základních grafů (`geom_point()` a `geom_smooth()`) pro znázornění vztahů mezi proměnnými,\n",
    "- sestavení jednoduchého regresního modelu pomocí `lm()` a interpretaci jeho výstupu,\n",
    "- porovnání lineárního a kvadratického modelu na datech `cars`,\n",
    "- vytvoření a porovnání několika základních modelů na datech `mtcars`.\n",
    "\n",
    "🎯  Cílem je porozumět základům modelování závislostí a vyzkoušet si hodnocení kvality a vhodnosti zvolených modelů jak vizuálně, tak pomocí výstupů regresní analýzy."
   ]
  },
  {
   "cell_type": "markdown",
   "id": "cafbbe67-a1e1-4422-94a0-646bd431dea5",
   "metadata": {},
   "source": [
    "▶️ Načtení knihovny a změna velikosti obrázků."
   ]
  },
  {
   "cell_type": "code",
   "execution_count": null,
   "id": "9593f00d-5f18-46e2-890d-7724981b6980",
   "metadata": {},
   "outputs": [],
   "source": [
    "# načtení knihovny tidyverse\n",
    "library(tidyverse)\n",
    "\n",
    "# změna velikosti obrázků\n",
    "options(repr.plot.width = 9, repr.plot.height = 6)"
   ]
  },
  {
   "cell_type": "markdown",
   "id": "547adbe4-5f4c-4ed5-affc-1739d3c5f555",
   "metadata": {},
   "source": [
    "## Vizualizace pomocí `ggplot()`\n",
    "\n",
    "Balíček `ggplot2` umožňuje vytvářet přehledné a flexibilní grafy pomocí tzv. vrstvení jednotlivých komponent. Základem je funkce `ggplot()`, ve které definujeme data a `aes()` pro přiřazení proměnných k vizuálním prvkům (osa x, osa y, barva, velikost aj.). Na tuto základní vrstvu se přidávají další vrstvy, jako např. `geom_point()` pro body nebo `geom_smooth()` pro regresní křivky.\n",
    "\n",
    "Příklad níže ukazuje jednoduchý bodový graf s lineární regresní přímkou. Graf znázorňuje vztah mezi rychlostí a brzdnou dráhou. \n",
    "\n",
    "▶️ Ukázka tvorby grafu"
   ]
  },
  {
   "cell_type": "code",
   "execution_count": null,
   "id": "e1f496d2-7dc5-4dcd-bb8e-feb728d90efb",
   "metadata": {},
   "outputs": [],
   "source": [
    "# základní bodový graf\n",
    "ggplot(data = cars, aes(x = speed, y = dist)) + # v rámci aes() je definováno, co přijde na osu x a co na osu y\n",
    "  geom_point()"
   ]
  },
  {
   "cell_type": "markdown",
   "id": "ad7af277-027f-4bb5-b81d-4000d45e34be",
   "metadata": {},
   "source": [
    "Pro základní porozumnění datům je to super jednoduché. Navíc takto vytořený graf se dá stejně jednoduše doplňovat o další vrstvy. Například přidáním `geom_smooth()` s metodou `\"lm\"` doplníme lineární regresní přímku s intervalem spolehlivosti.\n",
    "\n",
    "▶️ Proložení přímkou"
   ]
  },
  {
   "cell_type": "code",
   "execution_count": null,
   "id": "635af4fb-4db3-4fb9-919d-c57b2d7a337a",
   "metadata": {},
   "outputs": [],
   "source": [
    "ggplot(data = cars, aes(x = speed, y = dist)) +\n",
    "  geom_point() +\n",
    "  geom_smooth(method = \"lm\", formula = 'y ~ x')"
   ]
  },
  {
   "cell_type": "markdown",
   "id": "192cde6b-99b8-4df1-a20e-84f4260be168",
   "metadata": {},
   "source": [
    "### 🔍 Kontrola:\n",
    "\n",
    "Zkontroluj tvar grafu – regresní čára by měla stoupat."
   ]
  },
  {
   "cell_type": "markdown",
   "id": "5ecbf0ce-cb68-4645-bdcd-276462d279a0",
   "metadata": {},
   "source": [
    "### 🧠 Úkol\n",
    "\n",
    "Stejným způsobem vytvoříme graf vztahu mezi hmotností a spotřebou z balíku `mtcars`.\n",
    "\n",
    "1. Na osu x vyneste hmotnost `wt` a na osu y spotřebu `mpg`.\n",
    "2. Ve funkci `geom_smooth()` použijte metodu lineární regrese `\"lm\"` v parametru `method`.\n",
    "3. Ve funkci `geom_smooth()` změňte barvu čáry (`color`) a barvu konfidenčního intervalu (`fill`) na \"darkgreen\"."
   ]
  },
  {
   "cell_type": "code",
   "execution_count": null,
   "id": "f49ee5c7-a7da-4128-aac2-7b4214bab3a8",
   "metadata": {},
   "outputs": [],
   "source": [
    "ggplot(data = mtcars, aes(x = ____, y = ____)) +\n",
    "  geom_point() +\n",
    "  geom_smooth(method = \"____\", se = TRUE, color = \"____\", ____ = \"____\")"
   ]
  },
  {
   "cell_type": "markdown",
   "id": "accc60cc-d92e-473a-afb6-ce6f80549268",
   "metadata": {},
   "source": [
    "### 🔍 Kontrola:\n",
    "\n",
    "Zkontroluj, že na vodorovné ose je `wt` a svislé ose `mpg` a že regresní přímka má klesající trend."
   ]
  },
  {
   "cell_type": "markdown",
   "id": "d7a9dbc7-ac30-428f-9372-84dfc3a09366",
   "metadata": {},
   "source": [
    "## Regresní modely pomocí funkce `lm()`\n",
    "\n",
    "Stejně jednoduché jako tvorba základních grafů je i statistické vyhodnocení pomocí regresního modelu. Cílem kapitoly není podrobný popis jak a kdy používat regresní modely, ale pouze ukázat, jak jednoduché je to s pomocí **R** a správně připravených dat.\n",
    "\n",
    "Funkce `lm()` má celou řadu nastavení (můžete vyzkoušet spuštěním `help(lm)`), ale pro naše účely postačí parametry `data` a `formula`. V rámci prvního určíme dataset a v rámci druhého formulujeme vztah, který chceme prověřit. \n",
    "\n",
    "Pro vypsání vybraných výstupů z modelu využijeme funkci `summary()`."
   ]
  },
  {
   "cell_type": "code",
   "execution_count": null,
   "id": "51951a90-ff08-4b8a-89b0-4286f1ec2fa1",
   "metadata": {},
   "outputs": [],
   "source": [
    "# jednoduchý regresní model\n",
    "reg_model <- lm(data = cars, formula = dist ~ speed)\n",
    "\n",
    "summary(reg_model)"
   ]
  },
  {
   "cell_type": "markdown",
   "id": "d78fd6e5-5184-42c3-8905-97e914978d6f",
   "metadata": {},
   "source": [
    "## 📊 Výstup lineárního modelu `lm(dist ~ speed)`\n",
    "\n",
    "Vysvětlení vybraných částí výstupu:\n",
    "\n",
    "Model má tvar: $  dist = -17.58 + 3.93 * speed$\n",
    "\n",
    "### 🧪 Statistická významnost\n",
    "\n",
    "- Oba koeficienty jsou statisticky významné:\n",
    "  - `Intercept`: p = 0.0123\n",
    "  - `speed`: p < 0.001 (silná závislost)\n",
    "\n",
    "---\n",
    "\n",
    "### 📈 Kvalita modelu\n",
    "\n",
    "- **R-squared** = 0.6511 → model vysvětluje přibližně 65 % variability v brzdné dráze.\n",
    "- **Adjusted R-squared** = 0.6438\n",
    "- **F-statistika** = 89.57, p < 0.001 → model jako celek je silně významný.\n",
    "\n",
    "---\n",
    "\n",
    "### 📉 Rezidua\n",
    "\n",
    "- Minimální reziduum: -29.07\n",
    "- Maximální reziduum: +43.20\n",
    "- Medián reziduí: -2.27\n",
    "- Šířka reziduí naznačuje rozptyl hodnot kolem predikce, ale bez extrémního zkreslení.\n",
    "\n",
    "---\n",
    "\n",
    "### ⚠️ Závěr\n",
    "\n",
    "- Brzdná dráha roste přibližně o **3.93 stop** s každým zvýšením o 1 míli za hodinu.\n",
    "- Model je **statisticky významný** a **prakticky interpretovatelný**, ale **nelineární vztah** by mohl být ještě přesnější (např. kvadratická složka).  "
   ]
  },
  {
   "cell_type": "markdown",
   "id": "91433d34-fc93-41ae-bf60-8a0eb48b7675",
   "metadata": {},
   "source": [
    "## Kvadratický model\n",
    "\n",
    "Je kvadratický model opravdu lepší? Stačí změnit formulaci modelu na `formula = dist ~ poly(speed, 2)` a porovnat výstupy.\n",
    "\n",
    "▶️"
   ]
  },
  {
   "cell_type": "code",
   "execution_count": null,
   "id": "6fe2c0c9-2d7c-4d59-8af0-b0e214d62ab0",
   "metadata": {},
   "outputs": [],
   "source": [
    "model_quad <- lm(formula = dist ~ poly(speed, 2), data = cars)\n",
    "summary(model_quad)"
   ]
  },
  {
   "cell_type": "markdown",
   "id": "8d235215-37ee-4b1d-b2e2-601bb1287800",
   "metadata": {},
   "source": [
    "## Porovnání modelů\n",
    "\n",
    "| Model                  | R²     | Adjusted R² | Residual Std. Error | Významný nelineární člen |\n",
    "|------------------------|--------|--------------|----------------------|---------------------------|\n",
    "| Lineární    | 0.6511 | 0.6438       | 15.38                | –                         |\n",
    "| Kvadratický | 0.6673 | 0.6532       | 15.18                | Ne (p = 0.136)            |\n",
    "\n",
    "**Lineární model:** jednodušší, dobře interpretovatelný, statisticky silný.\n",
    "\n",
    "**Kvadratický model:** mírně lepší fit, ale přidaný člen není významný → použití závisí na tom, zda očekáváme nelineární vztah (např. fyzikálně kvadratická závislost).\n",
    "\n",
    "* Kvadratický model má mírně lepší přizpůsobení datům (vyšší R², nižší chyba).\n",
    "* Druhý (kvadratický) člen **není statisticky významný** – jeho přidání model výrazně nevylepšuje.\n",
    "* Pokud **není očekáván nelineární vztah**, je vhodnější **jednodušší lineární model**."
   ]
  },
  {
   "cell_type": "markdown",
   "id": "5a12ed1c-4d7f-43cc-866a-9f255b832c46",
   "metadata": {},
   "source": [
    "## 🧠 Úkol - vizuální srovnání modelů\n",
    "\n",
    "1. Jako data použijte dataset `cars` a doplňte chybějící název sloupce na osu y.\n",
    "2. Doplňte vrstvu s body (`geom_point()`).\n",
    "3. Doplňte regresní metodu.\n",
    "4. Doplňte stupeň polynomu a jinou barvu než modrou pro lepší přehlednost."
   ]
  },
  {
   "cell_type": "code",
   "execution_count": null,
   "id": "5073c68c-21fd-4c99-8878-8455a875299f",
   "metadata": {},
   "outputs": [],
   "source": [
    "# Minimalistická varianta vykreslení\n",
    "ggplot(data = ____, aes(x = speed, y = ____)) +\n",
    "   ____() +\n",
    "   geom_smooth(method = \"____\", formula = 'y ~ x', se = TRUE) +\n",
    "   geom_smooth(method = \"lm\", formula = y ~ poly(x, ____), se = TRUE, col = \"____\")"
   ]
  },
  {
   "cell_type": "markdown",
   "id": "a9f1f066-1301-43de-851f-681cc11e2b4f",
   "metadata": {},
   "source": [
    "## Tvorba grafu\n",
    "\n",
    "Doteď jsme vytvářely pouze informativní obrázky, které jsou vhodné pro základní přehled o datech, ale nikoli pro jakoukoli formu prezentace nebo publikace. V následující ukázce je představeno přidání několika dalších vrstev, které umožňují přizpůsobení obrázku podle vašich potřeb, aby z něj vznikl skutečný graf.\n",
    "\n",
    "Možností je nepřeberné množství. V následující ukázce vybíráme možnost změnit popisky os pomocí `labs()`, zmenit vizuální vzhled pomocí `theme` (použito předdefinované `theme_minimal()` a nastavení legendy pomocí `scale_color_manual()`.\n",
    "\n",
    "▶️ Ukázka"
   ]
  },
  {
   "cell_type": "code",
   "execution_count": null,
   "id": "04d529a4-896e-42ba-a31f-aa7577654c15",
   "metadata": {},
   "outputs": [],
   "source": [
    "# Lepší vykreslení\n",
    "ggplot(cars, aes(x = speed, y = dist)) +\n",
    "  geom_point(color = \"black\") +\n",
    "  geom_smooth(aes(color = \"Lineární\"), method = \"lm\", se = FALSE, linetype = \"dashed\", formula = y ~ x) +\n",
    "  geom_smooth(aes(color = \"Kvadratická\"), method = \"lm\", formula = y ~ poly(x, 2), se = FALSE) +\n",
    "  labs(\n",
    "    title = \"Srovnání lineárního a kvadratického modelu\",\n",
    "    x = \"Rychlost (mph)\",\n",
    "    y = \"Délka brzdné dráhy (ft)\",\n",
    "    color = \"Regrese\"\n",
    "  ) +\n",
    "  theme_minimal() +\n",
    "  scale_color_manual(values = c(\"Lineární\" = \"blue\", \"Kvadratická\" = \"red\"))\n"
   ]
  },
  {
   "cell_type": "markdown",
   "id": "1e7c2396-2ea4-4d00-9d44-db713a455982",
   "metadata": {},
   "source": [
    "## Regrese na balíku `mtcars`\n",
    "\n",
    "V poslední části si vyzkoušíte vytvořit regresní modely s datasetem `mtcars`. V první fázi zjistíte, jestli je statistická významnost mezi spotřebou a hmotností vozidla. Následně si zkusíte rozšířit model ještě o výkon motoru."
   ]
  },
  {
   "cell_type": "markdown",
   "id": "c9cefd14-7164-4077-a23d-d6fe02992e71",
   "metadata": {},
   "source": [
    "## 🧠 Úkol\n",
    "\n",
    "1. Do proměnné `lm_model` načtěte výsledek regresního modelu závoslosti spotřeby na hmotnosti vozidla pro dataset `mtcars`.\n",
    "2. Vypište výsledky modelu.\n",
    "\n",
    "* Jedná se o dobrý model? Zkontrolujte například `R-squared`. \n",
    "* Je model statisticky významný? Napoví `p-value`."
   ]
  },
  {
   "cell_type": "code",
   "execution_count": null,
   "id": "9c7650c2-e87d-4471-a424-0602801feb85",
   "metadata": {},
   "outputs": [],
   "source": [
    "# model lineární regrese\n",
    "lm_model <- ____(formula = mpg ~ wt, data = ____)\n",
    "____(lm_model)"
   ]
  },
  {
   "cell_type": "markdown",
   "id": "dd960c8a-b942-4f2b-8097-ec03e3e97ddc",
   "metadata": {},
   "source": [
    "### 🔍 Kontrola\n",
    "\n",
    "Vztah je záporný (Estimate pro `wt` je -5.34), takže s rostoucí hmotností klesá počet ujetých mil na jednotku množství paliva. Model je statisticky významný, protože `p-value` je menší než 0.05 i 0.01. A podle `R-squared` model vysvětluje 75% variability spotřeby."
   ]
  },
  {
   "cell_type": "markdown",
   "id": "1fd88d49-a51b-4c9d-bc52-f641147cb439",
   "metadata": {},
   "source": [
    "## 🧠 Úkol\n",
    "\n",
    "Ještě vyzkoušíme, jestli dojde ke zlepšení, když do modelu přidáme závislost na  výkonu motoru. Toho se docílí jednoduše změnou parametru `formula`.\n",
    "\n",
    "Srovnejte `R-squared`. Pokud dojde ke zvýšení, zlepšili jsme model. \n",
    "\n",
    "Také můžete v minitabulce `Coefficients:` jednoduše zjistit, jestli je závislost na výkonu statisticky významná. Stačí porovnat, jestli je na příslušném řádku `hp` v posledním sloupci hodnota menší než 0.05. Představu o významnosti dávají i znaky `*`. Čím je jich více, tím lépe.\n",
    "\n",
    "▶️ Ukázka"
   ]
  },
  {
   "cell_type": "code",
   "execution_count": null,
   "id": "a1beedf8-5d7f-4832-8721-a9ed208f5a55",
   "metadata": {},
   "outputs": [],
   "source": [
    "model <- lm(mpg ~ wt + hp, data = mtcars)\n",
    "summary(model)"
   ]
  },
  {
   "cell_type": "markdown",
   "id": "60b9db04-1d8e-44e5-a1aa-e02ae01a6a73",
   "metadata": {},
   "source": [
    "## Přidání dalšího rozměru do ggplot grafů\n",
    "\n",
    "Pokud máme více než dvě proměnné, můžeme v ggplot využít další způsoby vyjádření závislosti například pomocí barvy nebo velikosti bodů. Obě varianty mohou být oddělené, ale v následující ukázce vyjadřují totéž.\n",
    "\n",
    "▶️ Ukázka"
   ]
  },
  {
   "cell_type": "code",
   "execution_count": null,
   "id": "6d4a2ca0-ca08-4730-a275-a138d0532a7e",
   "metadata": {},
   "outputs": [],
   "source": [
    "ggplot(mtcars, aes(x = hp, y = wt, col = mpg, size = mpg)) +\n",
    "  geom_point()"
   ]
  },
  {
   "cell_type": "markdown",
   "id": "71f2f1a4-5e6c-4590-9e9e-31a5b183c2cd",
   "metadata": {},
   "source": [
    "### 🧠 Úkol - přizpůsobení grafu\n",
    "\n",
    "V následující ukázce si zkuste libovolně měnit parametry. Například vkládáním jiných sloupců na osy x a y nebo do velikosti bodů či barvy bodů. Můžete měnit popisky nebo akomentovat některé řádky přidáním znaku `#` na začátek řádku a sledovat, co se bude dít."
   ]
  },
  {
   "cell_type": "code",
   "execution_count": null,
   "id": "5ed393d4-3442-4238-913b-0351c1508265",
   "metadata": {},
   "outputs": [],
   "source": [
    "# graf pro vaše pokusy\n",
    "# pokud si chcete jeho základní verzi zachovat, zkopírujte ho do následující buňky a upravujte tam\n",
    "\n",
    "ggplot(mtcars, aes(x = hp, y = wt, col = mpg, size = cyl)) +\n",
    "  geom_point(alpha = 0.7) +\n",
    "  scale_color_viridis_c(option = \"plasma\") +\n",
    "#  guides(color = guide_legend(), size = guide_legend()) +  # spojí legendu pokud size a col vychází z jenoho sloupce\n",
    "  scale_size(range = c(4, 8)) +\n",
    "  labs(\n",
    "#    title = \"Závislost výkonu a hmotnosti na spotřebě\",\n",
    "    x = \"Výkon (hp)\",\n",
    "    y = \"Hmotnost (1000 lbs)\",\n",
    "    color = \"Spotřeba (mpg)\",\n",
    "    size = \"Počet válců (cyl)\"\n",
    "  ) +\n",
    "  theme_minimal()\n",
    "  "
   ]
  },
  {
   "cell_type": "code",
   "execution_count": null,
   "id": "1339cd08-863b-49fc-aeb3-645a58bb551e",
   "metadata": {},
   "outputs": [],
   "source": [
    "# další prostor pro pokusy\n"
   ]
  }
 ],
 "metadata": {
  "kernelspec": {
   "display_name": "R 4.5",
   "language": "R",
   "name": "r-4.5"
  },
  "language_info": {
   "codemirror_mode": "r",
   "file_extension": ".r",
   "mimetype": "text/x-r-source",
   "name": "R",
   "pygments_lexer": "r",
   "version": "4.5.0"
  }
 },
 "nbformat": 4,
 "nbformat_minor": 5
}

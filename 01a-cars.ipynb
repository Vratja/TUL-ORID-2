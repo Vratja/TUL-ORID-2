{
 "cells": [
  {
   "cell_type": "markdown",
   "id": "75348f52-26f2-4aac-80de-e8baf0c3b387",
   "metadata": {},
   "source": [
    "## Úvod do cvičení: Práce s daty v R pomocí `tidyverse`\n",
    "\n",
    "V tomto cvičení se naučíte základní práci s daty v jazyce **R** pomocí moderní sady nástrojů `tidyverse`. Budeme pracovat s jednoduchými, ale velmi známými datasety `cars` a `mtcars`, které jsou v R přímo dostupné.  \n",
    "\n",
    "Součástí cvičení bude hotový příklad pro jednodušší z datasetů `cars` a následně obdobný úkol ve složitějším datasetu `mtcars`.\n",
    "\n",
    "## 🎯 Cíl cvičení\n",
    "- Naučit se základní příkazy pro prohlížení, filtrování a úpravu dat.\n",
    "- Vyzkoušet si doplňování kódu místo psaní všeho od začátku.\n",
    "\n",
    "### 🧾 Popis datasetu `cars`\n",
    "\n",
    "Dataset `cars` obsahuje 50 řádků a 2 sloupce, které zachycují výsledky měření brzdné dráhy automobilů.\n",
    "\n",
    "| Sloupec | Popis                                 | Jednotka         |\n",
    "|--------|----------------------------------------|------------------|\n",
    "| `speed` | Rychlost vozidla před bržděním         | míle za hodinu (mph) |\n",
    "| `dist`  | Délka brzdné dráhy | stopy (feet)     |\n",
    "\n",
    "Data byla poprvé publikována v roce 1920 a i když jsou staršího data, slouží výborně k demonstraci práce s daty a pro základní analýzy.\n",
    "\n",
    "### 🧾 Dataset `mtcars`\r\n",
    "\r\n",
    "Dataset `mtcars` obsahuje technické parametry 32 modelů automobilů z roku 1974. Každý řádek představuje jeden vůz a sloupce popisují různé vlastnosti motoru a výko.ců\r\n",
    "\r\n",
    "| Název   | Popis                                      | Jednotka / Hodnoty               |\r\n",
    "|---------|---------------------------------------------|----------------------------------|\r\n",
    "| `mpg`   | Spotřeba                                     | míle na galon                   |\r\n",
    "| `cyl`   | Počet válců                                  | celé číslo                      |\r\n",
    "| `disp`  | Objem motoru                                 | kubické palce                   |\r\n",
    "| `hp`    | Výkon motoru                                 | koňské síly (horsepower)        |\r\n",
    "| `drat`  | Převodový poměr zadní nápravy                | poměr (bez jednotky)            |\r\n",
    "| `wt`    | Hmotnost vozidla                             | tisíce liber                    |\r\n",
    "| `qsec`  | Čas na čtvrt míle                            | sekundy                         |\r\n",
    "| `vs`    | Typ motoru                                   | 0 = V-motor, 1 = řadový         |\r\n",
    "| `am`    | Typ převodovky                               | 0 = automat, 1 = manuál         |\r\n",
    "| `gear`  | Počet rychlostních stupňů                    | celé číslo                      |\r\n",
    "| `carb`  | Počet karburátorů                            | celé číslo                   |\r\n",
    "\r\n",
    "🔍 Tento dataset je ideální pro nácvik práce s číselnými proměnnými, filtrování, seskupoání a vizualizaci.\r\n",
    "\n",
    "\n",
    "Nyní se můžete pustit do samotného zpracování dat! Nezapomeňte průběžně spouštět kód a kontrolovat výsledky."
   ]
  },
  {
   "cell_type": "markdown",
   "id": "d57cbf1d-4064-468d-a0ea-a68dca5d461e",
   "metadata": {},
   "source": [
    "## 📝 1. Načítání balíčků a přiřazení dat\n",
    "\n",
    "V jazyce **R** se balíčky (tzv. *packages*) používají k rozšíření možností jazyka. Obsahují předdefinované funkce a testovací data. Pro práci s daty budeme používat moderní balíček `tidyverse`, který obsahuje nástroje jako `dplyr` nebo `ggplot2`.\n",
    "\n",
    "Před použitím balíčku ho musíme nejprve **nainstalovat** (stačí jednou) a poté **načíst**:\n",
    "\n",
    "```\n",
    "# Instalace balíčku – spusťte jen poprvé\n",
    "install.packages(\"nazev_balicku\")\n",
    "\n",
    "# Načtení balíčku – před každou prací s daty\n",
    "library(nazev_balicku)\n",
    "```\n",
    "\n",
    "Přiřazení dat do proměnné se provádí pomocí stylizované šipky `<-`. Takže například:\n",
    "\n",
    "```\n",
    "a <- 3\n",
    "```\n",
    "\n",
    "přiřadí hodnotu 3 do proměnné `a`."
   ]
  },
  {
   "cell_type": "markdown",
   "id": "a593b87c-8ef5-4b2e-bfe2-4e7c58012d53",
   "metadata": {},
   "source": [
    "▶️ Ukázka načtení a přiřazení dat"
   ]
  },
  {
   "cell_type": "code",
   "execution_count": null,
   "id": "821b0fba-06f1-42f0-9ded-7e0026419af2",
   "metadata": {},
   "outputs": [],
   "source": [
    "# Načtení pomocných funkcí\n",
    "source(\"functions.r\", encoding = \"UTF-8\")\n",
    "\n",
    "# Načtení knihovny\n",
    "# install.packages(\"tidyverse\")\n",
    "library(\"tidyverse\")\n",
    "\n",
    "# Přiřazení dat\n",
    "df_cars <- cars\n",
    "\n",
    "# Funkce head() zobrazuje prvních n řádků tabulky.\n",
    "head(df_cars, n=3)"
   ]
  },
  {
   "cell_type": "markdown",
   "id": "6c324f77-f6b0-4195-9b3a-ebd1ca66703b",
   "metadata": {},
   "source": [
    "## 🧠 Úkol 1 - Načítání\n",
    "\n",
    "1. Načtěte balík funkcí `tidyverse` pomocí funkce `library()`.\n",
    "2. Do proměnné `df` načtěte informace z `mtcars` pomocí přířazení `<-`.\n",
    "3. Pomocí funkce `head()` vypište první 4 řádky tabulky `df`.\n",
    "\n",
    "Místo `____` doplňte:"
   ]
  },
  {
   "cell_type": "code",
   "execution_count": null,
   "id": "302c0405-2a58-4a70-b4e0-30b1cdb3fd13",
   "metadata": {},
   "outputs": [],
   "source": [
    "# DOPLŇTE: \n",
    "## načtěte knihovnu tidyverse\n",
    "library(\"____\")\n",
    "\n",
    "## načtěte dataset mtcars do proměnné df\n",
    "df <- ____\n",
    "\n",
    "## Funkce head() zobrazuje prvních n řádků tabulky.\n",
    "head(df, n =____)"
   ]
  },
  {
   "cell_type": "markdown",
   "id": "3f3a9a54-2380-480a-9439-4813e097fb4b",
   "metadata": {},
   "source": [
    "### 🔍 Kontrola\n",
    "\n",
    "Pokud vidíte tabulku s 11 sloupci a 4 řádky, je vše v pořádku. Pro kontrolu můžete spustit následující kód.\n",
    "\n",
    "▶️ Test"
   ]
  },
  {
   "cell_type": "code",
   "execution_count": null,
   "id": "e1fbeac3-9f88-4059-999c-a32f52da8ede",
   "metadata": {},
   "outputs": [],
   "source": [
    "# Kontrola\n",
    "check_answers_1()"
   ]
  },
  {
   "cell_type": "markdown",
   "id": "de87884e-c759-4f58-b80f-da834f818374",
   "metadata": {},
   "source": [
    "## 📝 2. Základní přehled o datech\n",
    "\n",
    "Pro základní orientaci v datovém rámci můžeme použít dvě užitečné funkce: `glimpse()` a `summary()`.\n",
    "\n",
    "Funkce `glimpse()` zobrazí náhled dat v přehledné formě – každý sloupec na jednom řádku.\n",
    "Funkce `summary()` zobrazí základní popisné statistiky pro každý sloupec – např. minimum, průměr, kvartily.\n",
    "\n",
    "Po spuštění `glimpse()` například uvidíte, že dataset `cars` má 50 řádků nebo že brzdná dráha prvního a druhého auta při stejné rychlosti 4 mph byla velmi rozdílná (2 a 10 stop).\n",
    "Z výstupu `summary()` je například patrné, že maximální testovaná rychlost byla 25 mph a medián brzdné dráhy byl 36 stop."
   ]
  },
  {
   "cell_type": "markdown",
   "id": "eeda0df7-7eab-4743-bda8-9b116fdd0cf6",
   "metadata": {},
   "source": [
    "▶️ Ukázka"
   ]
  },
  {
   "cell_type": "code",
   "execution_count": null,
   "id": "829e9a56-0e4c-4bd2-a236-50fca19c352b",
   "metadata": {},
   "outputs": [],
   "source": [
    "# struktura dat\n",
    "glimpse(df_cars)"
   ]
  },
  {
   "cell_type": "markdown",
   "id": "2ac9550c-eb5e-4140-ac9d-b5e31cfb0134",
   "metadata": {},
   "source": [
    "▶️ Ukázka"
   ]
  },
  {
   "cell_type": "code",
   "execution_count": null,
   "id": "3853a0d3-1433-45fd-b3f8-16658424b87c",
   "metadata": {},
   "outputs": [],
   "source": [
    "# základní statistiky\n",
    "summary(df_cars)"
   ]
  },
  {
   "cell_type": "markdown",
   "id": "d297b86c-689a-47ca-afa7-a409da6dce8f",
   "metadata": {},
   "source": [
    "## 🧠 Úkol 2 - základní přehled o datech\n",
    "\n",
    "1. Zjistěte kolik řádků má dataset `mtcars` mačtený v proměnné `df`.\n",
    "2. Zjistěte, jaký byl maximální výkon motoru a medián počtu válců.\n",
    "3. Hodnoty pro kontrolu přiřaďte do proměnných `n_rows`, `max_hp` a `med_cyl` pod následujícím odstavcem 🔍  **Kontrola**."
   ]
  },
  {
   "cell_type": "code",
   "execution_count": null,
   "id": "336019a5-bd59-4360-aed2-f494db4e08d5",
   "metadata": {},
   "outputs": [],
   "source": [
    "# Rychlý přehled\n",
    "____(df)"
   ]
  },
  {
   "cell_type": "code",
   "execution_count": null,
   "id": "4f1be491-6e98-4aee-a568-5808d319d41f",
   "metadata": {},
   "outputs": [],
   "source": [
    "# Základní popisné statistiky\n",
    "____(____)"
   ]
  },
  {
   "cell_type": "markdown",
   "id": "e504bde9-32dd-4262-b7fe-0b62fb9d696b",
   "metadata": {},
   "source": [
    "### 🔍  Kontrola\n",
    "\n",
    "Proběhlo spuštění předchozího kódu bez chyb? Pokud ano, doplňte odpovědi a spusťte následující test.\n",
    "\n",
    "▶️ Test"
   ]
  },
  {
   "cell_type": "code",
   "execution_count": null,
   "id": "c83b3287-69cd-443a-8851-e2be2586bd98",
   "metadata": {},
   "outputs": [],
   "source": [
    "# počet řádků datasetu mtcars\n",
    "n_rows <- ____\n",
    "\n",
    "# maximální výkon motoru\n",
    "max_hp ____ ____\n",
    "\n",
    "# medián počtu válců\n",
    "____ ____ ____\n",
    "\n",
    "# Kontrola\n",
    "check_answers_2()"
   ]
  },
  {
   "cell_type": "markdown",
   "id": "d510ae26-67f6-4146-960e-4fea479e2365",
   "metadata": {},
   "source": [
    "## 📝 3. Filtrování a výběr dat\n",
    "\n",
    "Při práci s daty často potřebujeme zobrazit jen určité řádky nebo sloupce. Pomocí balíčku `dplyr` (součást `tidyverse`) můžeme jednoduše psát příkazy formou textu a nemusíme se trápit s programátorskými řetězci komplikovaných znaků.\n",
    "\n",
    "- **filtrovat řádky** pomocí funkce `filter()`\n",
    "- **vybírat sloupce** pomocí funkce `select()`\n",
    "\n",
    "Následující kód filtruje pouze záznamy (řádky) s rychlostí větší než 15 a vypíše sloupce s rychlostí a brzdnou dráhou. K řetězení příkazů se pouzívá takzvaná `pipe`, která se zapisuje takto: `%>%`. S její pomocí je kód přehlednější. Čitelnost a přehlednost srovnejte na následujících třech jednoduchých variantách, které mají stejný výstup.\n",
    "\n",
    "▶️ Ukázka"
   ]
  },
  {
   "cell_type": "code",
   "execution_count": null,
   "id": "36f53fdf-b5b7-40ac-98cc-0594db1085d3",
   "metadata": {},
   "outputs": [],
   "source": [
    "# přehledná varianta s dplyr\n",
    "var1 <- df_cars %>%\n",
    "  filter(speed > 20, speed < 24) %>%\n",
    "  select(speed, dist)\n",
    "\n",
    "# kód pomocí dplyr bez řetězení příkazů\n",
    "var2 <- select(filter(df_cars, speed > 20, speed < 24), speed, dist)\n",
    "\n",
    "# základní R kód\n",
    "var3 <- df_cars[df_cars$speed > 20 & df_cars$speed < 24, c(\"speed\", \"dist\")]"
   ]
  },
  {
   "cell_type": "code",
   "execution_count": null,
   "id": "fce37344-ae0f-4b4d-9922-164875ec3725",
   "metadata": {},
   "outputs": [],
   "source": [
    "# srovnání, zda jsou výstupy variant stejné pro všechny hodnoty\n",
    "cat(\"Výstup var1:\")\n",
    "var1\n",
    "\n",
    "if(all.equal(var2, var3, check.attributes = FALSE)) cat(\"var2 a var3 jsou stejné\\n\") else cat(\"var2 a var3 jsou rozdílné\\n\")\n",
    "if(all.equal(var1, var2)) cat(\"var1 a var2 jsou stejné\\n\") else cat(\"var1 a var2 jsou rozdílné\\n\")"
   ]
  },
  {
   "cell_type": "markdown",
   "id": "95432b11-e2c0-4e40-9a01-6c5b37af1898",
   "metadata": {},
   "source": [
    "## 🧠 Úkol 3 - filtrování a výběr dat\n",
    "\n",
    "1. Filtruj `df` tak, aby byl počet válců `cyl` roven 6. Do proměnné `max_mpg` přiřaď nejvyšší spotřebu aut se 6 válci.\n",
    "2. Využij `filtr()` z bodu 1 a vyber pomocí `select()` pouze sloupce `wt`, `mpg` a `disp`. Ulož do proměnné `df_fil_sel`.\n",
    "3. Rozšiř `filtr()` z bodu 1 o filtr aut vážících víc než 3 tisíce liber (hodnota `wt` je v tisících). Použij `select()` z bodu 2."
   ]
  },
  {
   "cell_type": "code",
   "execution_count": null,
   "id": "dd609d55-65b5-4e62-baf8-f6b1e40cae6e",
   "metadata": {},
   "outputs": [],
   "source": [
    "# úkol 3 část 1\n",
    "\n",
    "df %>%\n",
    "  filter(____ == ____)"
   ]
  },
  {
   "cell_type": "code",
   "execution_count": null,
   "id": "3d58ff4e-5881-4fad-ba10-cfa5fec87327",
   "metadata": {},
   "outputs": [],
   "source": [
    "# doplň nejvyšší spotřebu aut se 6 válci\n",
    "max_mpg <- ____"
   ]
  },
  {
   "cell_type": "code",
   "execution_count": null,
   "id": "6621e4a0-5209-45d2-b39a-7a723bd81148",
   "metadata": {},
   "outputs": [],
   "source": [
    "# úkol 3 část 2\n",
    "\n",
    "df_fil_sel_2 <- df %>%\n",
    "   ____(____ == 6) %>%\n",
    "   select(wt, ____, ____)\n",
    "\n",
    "df_fil_sel_2"
   ]
  },
  {
   "cell_type": "code",
   "execution_count": null,
   "id": "07d414bb-c31c-4b37-b8cf-9cc11f60f9aa",
   "metadata": {},
   "outputs": [],
   "source": [
    "# úkol 3 část 3\n",
    "\n",
    "df_fil_sel_3 <- ____ %>%\n",
    "   ____(____ == ____, ____ > 3) %>%\n",
    "   ____(wt, ____, ____)\n",
    "\n",
    "df_fil_sel_3"
   ]
  },
  {
   "cell_type": "markdown",
   "id": "b111af2b-8b7d-412a-8d38-a969c2db5dbd",
   "metadata": {},
   "source": [
    "### 🔍 Kontrola\n",
    "\n",
    "Filtrovaný dataset z úkolu 1 má mít 7 řádků a 11 sloupců. Dataset z druhého úkolu 7 řádků a 3 sloupce a dataset ze třetího úkolu 4 řádky a 3 sloupce. \n",
    "\n",
    "▶️ Podrobnější test."
   ]
  },
  {
   "cell_type": "code",
   "execution_count": null,
   "id": "9eb16d5a-6092-4bd7-8f6e-8996eb17c64d",
   "metadata": {},
   "outputs": [],
   "source": [
    "# Kontrola\n",
    "check_answers_3()"
   ]
  },
  {
   "cell_type": "markdown",
   "id": "9ced31b1-6482-4497-8f97-be3c82e2ec8f",
   "metadata": {},
   "source": [
    "## 📝 4. Přidání nového sloupce a výpočet\n",
    "\n",
    "Pokud chceme dataset rozšířit o výpočet nebo pouze upravit data, která už ve sloupcích máme, poslouží nám funkce `mutate()`. \n",
    "Můžeme například vytvořit nový sloupec, ve kterém budou převedeny stopy na metry.\n",
    "\n",
    "\n",
    "Pro lepší čitelnost výstupu přidáme ještě funkci `round()`, která provádí zaokrouhlení na zadaný počet desetinných míst.\n",
    "\n",
    "▶️ Ukázka"
   ]
  },
  {
   "cell_type": "code",
   "execution_count": null,
   "id": "3a7149b4-f6b6-477c-9535-a9dbfe88093a",
   "metadata": {},
   "outputs": [],
   "source": [
    "ft_to_m <- 0.3048                # stopa na metry\n",
    "\n",
    "# přidání nového sloupce\n",
    "df_cars %>%\n",
    "  mutate(dist_m = dist * ft_to_m) %>%    # přidá sloupec s brzdnou dráhou v metrech\n",
    "  mutate(dist_m = round(dist_m, 2)) %>%  # zaokrouhlí výsledek na dvě desetinná místa\n",
    "  head(4)                                # vypíše pouze první 4 řádky"
   ]
  },
  {
   "cell_type": "markdown",
   "id": "90c7f21b-a6a5-4489-b557-384d3288b938",
   "metadata": {},
   "source": [
    "## 🧠 Úkol 4 - přidání nového sloupce a výpočet\n",
    "\n",
    "Operace přidání nového sloupce se mohou řetězit s použitím více příkazů `mutate()`, jako tomu bylo v předchozím příkladu, nebo mohou být součastí jednoho příkazu `mutate()`. Stačí je oddělit čárkou a pohlídat si, že následují v logickém pořadí.\n",
    "\n",
    "1. Doplňte výpočet tak, aby ve sloupci `speed_mps` byla rychlost v metrech za vteřinu.\n",
    "2. Doplňte výpočet tak, aby v proměnné `dist_m` byla brzdná dráha v metrech.\n",
    "3. Přidejte řádek `stop_time_s`, kde bude odhadovaná doba brždění s rovnoměrným zpomalení podle vzorce:\n",
    "   $$t = \\frac{2s}{v}$$\n",
    "5. Vytvořte sloupec `stop_time_round`, kde bude výsledný čas zaokrouhlený na dvě desetinná místa.\\]"
   ]
  },
  {
   "cell_type": "code",
   "execution_count": null,
   "id": "592d2e01-78e2-478d-8339-466d8b497dfa",
   "metadata": {},
   "outputs": [],
   "source": [
    "mph_to_mps <- 1609.34 / 3600     # míle/hodina na metry/sekunda\n",
    "ft_to_m <- 0.3048                # stopa na metry\n",
    "\n",
    "# Výpočet\n",
    "cars_converted <- df_cars %>%\n",
    "  mutate(\n",
    "    speed_mps = ____ * mph_to_mps,   # převod rychlosti\n",
    "    dist_m = dist * ____,            # převod brzdné dráhy\n",
    "    stop_time_s = 2 * ____ / ____,   # výpočet času brždění\n",
    "    ____ = round(____, 2)            # zaokrouhlení\n",
    "  )\n",
    "\n",
    "cars_converted %>% head(6)"
   ]
  },
  {
   "cell_type": "markdown",
   "id": "ceef8908-b5f8-4f94-b310-4bf7cda6968c",
   "metadata": {},
   "source": [
    "### 🔍  Kontrola:\n",
    "\n",
    "Pokud na výstupu vidíte tabulku se čtyřmi novými sloupci, proběhlo vše v pořádku. Pokud chcet ověřit i správnost výpočtů, můžete spustit následující kontrolu.\n",
    "\n",
    "▶️  Test"
   ]
  },
  {
   "cell_type": "code",
   "execution_count": null,
   "id": "d7daa8a2-4ab9-4cb4-8732-97f81b8bf122",
   "metadata": {},
   "outputs": [],
   "source": [
    "# Kontrola\n",
    "check_answers_4()"
   ]
  },
  {
   "cell_type": "markdown",
   "id": "9179e596-fe52-414e-a6a2-9afdd8a3c921",
   "metadata": {},
   "source": [
    "## 📝 5. Řazení dat\n",
    "\n",
    "Pokud chceme celý dataset seřadit podle hodnot ve vybraném sloupci, použijeme funkci `arrange()`. V základí variantě řadí funkce vzestupně (nejmenší je na prvním řádku). Pokud chceme data seřadit sestupně, použijeme vloženou funkci `desc()` uvnitř `arrange()`. Funkci lze použít i na více sloupců, přičemž řazení probíhá postupně.\n",
    "\n",
    "▶️ Ukázka"
   ]
  },
  {
   "cell_type": "code",
   "execution_count": null,
   "id": "f581fce5-2805-44e8-ae93-5a22be2f9134",
   "metadata": {},
   "outputs": [],
   "source": [
    "# řazení podle rychlosti\n",
    "df_cars %>%\n",
    "   arrange(desc(speed), dist) %>% # podle speed sestupně, podle dist v rámci jedné hodnoty speed vzestupně\n",
    "   head(6)"
   ]
  },
  {
   "cell_type": "markdown",
   "id": "fa5d64ef-3194-45a0-aa8f-63d8cac9a8ad",
   "metadata": {},
   "source": [
    "## 🧠 Úkol 5 - řazení dat\n",
    "\n",
    "V dalším kódu je pro vás vypočtena spotřeba `l_per_100km`, váha modelu v kg `weight_kg` a výkon na tunu `power_per_ton`. Odpovědi na následující otázky získáte správnou úpravou `arrange()`.\n",
    "\n",
    "❓ Otázky:\n",
    "1. Jaký model v datasetu má nejvyšší hmotnost?\n",
    "2. Jaký model má nejvyšší spotřebu na tunu?\n",
    "3. Jaký model má nejvyšší výkon?\n",
    "4. Má model s nejnižší hmotností také nejnižší spotřebu?\n",
    "\n",
    "▶️ Před pokračováním je nutné spustit následující kód."
   ]
  },
  {
   "cell_type": "code",
   "execution_count": null,
   "id": "b7802481-e021-485b-8cfc-d7dfbef7e264",
   "metadata": {},
   "outputs": [],
   "source": [
    "# výpočet nových sloupců\n",
    "## tuto část kódu neupravujte ##\n",
    "df_mtcars_ppt <- df %>%\n",
    "  select(mpg, hp, wt) %>%     # výběr sloupců\n",
    "  mutate(\n",
    "    model = rownames(df),                            # přidání sloupce s názvy modelů\n",
    "    l_per_100km = round(235.2 / mpg, 2),               # přepočet mpg na l/100km\n",
    "    weight_kg = round(wt * 1000 * 0.453592, 0),        # přepočet váhy z 1000 liber na kg\n",
    "    power_per_ton = round(hp / (weight_kg / 1000), 0)  # výkon na 1 tunu\n",
    "  )"
   ]
  },
  {
   "cell_type": "code",
   "execution_count": null,
   "id": "7afdf7e4-b576-4499-9d8a-1b541dbf97c0",
   "metadata": {},
   "outputs": [],
   "source": [
    "# kód pro úpravy\n",
    "\n",
    "df_mtcars_ppt %>%\n",
    "  arrange(____) %>%\n",
    "  head()"
   ]
  },
  {
   "cell_type": "code",
   "execution_count": null,
   "id": "c7dc39c6-231c-4a93-a114-a4cc8739d642",
   "metadata": {},
   "outputs": [],
   "source": [
    "# Doplňte své odpovědi\n",
    "## Jaký model v datasetu má nejvyšší hmotnost?\n",
    "q1_model_max_weight <- \"____\"\n",
    "\n",
    "## Jaký model má nejvyšší spotřebu na tunu?\n",
    "q2_model_max_consumption <- \"____\"\n",
    "\n",
    "## Jaký model má nejvyšší výkon?\n",
    "q3_model_max_hp <- \"____\"\n",
    "\n",
    "## Má model s nejnižší hmotností také nejnižší spotřebu?\n",
    "q4_yes_no <- \"____\"  # \"ano\" nebo \"ne\"\n",
    "\n",
    "# Spusťte kontrolu\n",
    "check_answers_5()"
   ]
  },
  {
   "cell_type": "markdown",
   "id": "24113d09-7022-49d5-8ef7-e7d4511e7cfd",
   "metadata": {},
   "source": [
    "## 📝 5. Agregace\n",
    "\n",
    "Agregace je proces **shrnutí nebo zjednodušení** dat podle určitých skupin. Často se používá k získání souhrnných statistik, jako jsou průměry, součty nebo počty pozorování pro jednotlivé skupiny v datech.\n",
    "\n",
    "V jazyku R a balíčku `dplyr` se agregace provádí kombinací funkcí `group_by()` a `summarise()`.\n",
    "\n",
    "* `group_by()` – rozdělí data podle hodnot ve zvoleném sloupci.\n",
    "* `summarise()` – pro každou skupinu vypočítá požadované souhrnné hodnoty.\n",
    "\n",
    "V následující ukázce je vypočtena průměrná brzdná dráha pro jednotlivé rychlosti. Také je přidán výpočet počtu měření v každé skupině `speed` pomocí funkce `n()`.\n",
    "\n",
    "▶️ Ukázka"
   ]
  },
  {
   "cell_type": "code",
   "execution_count": null,
   "id": "17b49c53-0a3a-4167-9469-732fe778f961",
   "metadata": {},
   "outputs": [],
   "source": [
    "# Výpočet brzdné dráhy pro jednotlivé rychlosti\n",
    "df_cars %>%\n",
    "  group_by(speed) %>%                               # agregace\n",
    "  summarise(dist_mean = mean(dist), n = n()) %>%    # výpočet dist_mean a počtu měření ve skupině\n",
    "  head(4)"
   ]
  },
  {
   "cell_type": "code",
   "execution_count": null,
   "id": "0f93c683-3c38-42e1-ba5d-0dd4c59290ab",
   "metadata": {},
   "outputs": [],
   "source": [
    "# Kontrola pro rychlost 4\n",
    "## Můžete měnit hodnotu za rovnítkem a kontrolovat další rychlosti\n",
    "df_cars %>%\n",
    "  filter(speed == 4)"
   ]
  },
  {
   "cell_type": "markdown",
   "id": "663aa769-0e7d-4c65-9739-25e8a627f0ff",
   "metadata": {},
   "source": [
    "## 🧠 Úkol 6 - Agregace\n",
    "\n",
    "**Cíl:** Prozkoumejte, jak se liší průměrná spotřeba aut podle počtu válců `cyl` a typu převodovky `am`.\n",
    "\n",
    "1. Z datasetu `df` vyberte pouze tyto sloupce:  `mpg`, `cyl`, `am`.\n",
    "2. Pomocí `mutate()` vytvořte nový sloupec `am_type`, kde:\n",
    "   - `0` bude nahrazeno textem `\"automat\"`,  \n",
    "   - `1` bude nahrazeno textem `\"manual\"`.\n",
    "3. Pomocí `group_by()` seskupte data podle:\n",
    "   - počtu válců (`cyl`) a  \n",
    "   - typu převodovky (`am_type`).\n",
    "4. Pomocí `summarise()` vypočítejte průměrnou spotřebu (`mean_mpg`) a počet modelů ve skupině (`n`) pro každou kombinaci ve skupině.\n",
    "5. Výstup seřaďte vzestupně podle počtu válců (`cyl`).\n",
    "\n",
    "❓ Následně zkuste zodpovědět otázky:\n",
    "\n",
    "1. Kolik je skupin podle počtu válců a typu převodovky?\n",
    "2. Kolik modelů bylo v nejpočetnější skupině?\n",
    "3. Lze jednoznačně říci, že v testovaném datasetu měly automaty při stejném počtu válců nižší průměrnou spotřebu?"
   ]
  },
  {
   "cell_type": "code",
   "execution_count": null,
   "id": "30eda80e-c7cf-49d1-a6bd-35d2723ca61d",
   "metadata": {},
   "outputs": [],
   "source": [
    "# výpočet průměrné spotřeby podle počtu válců a převodovky\n",
    "\n",
    "df %>%\n",
    "  select(____, ____, ____) %>%                                  # Výběr relevantních sloupců\n",
    "  ____(am_type = if_else(am == 0, \"____\", \"manual\")) %>%        # Vytvoření nového sloupce s typem převodovky\n",
    "  group_by(____, ____) %>%                                      # Sloučení podle sloupců se stejným cyl a typem převodovky\n",
    "  ____(mean_mpg = mean(____), n = ____, .groups = \"drop\") %>%   # Výpočet průměrné spotřeby a počtu modelů ve skupině\n",
    "  arrange(____)                                                 # Seřazení podle průměrné spotřeby"
   ]
  },
  {
   "cell_type": "code",
   "execution_count": null,
   "id": "d8e7d3c2-5999-439e-8379-efa0d259f045",
   "metadata": {},
   "outputs": [],
   "source": [
    "# Odpovědi:\n",
    "## Kolik je skupin podle počtu válců a typu převodovky?\n",
    "q1_n_groups <- ____\n",
    "\n",
    "## Kolik modelů bylo v nejpočetnější skupině?\n",
    "q2_n_max_groups <- ____\n",
    "\n",
    "## Lze jednoznačně říci, že testovaném datasetu měly automaty při stejném počtu válců nižší průměrnou spotřebu?\n",
    "q3_yes_no <- \"____\"  ## \"ano\" nebo \"ne\"\n",
    "\n",
    "check_answers_6()"
   ]
  }
 ],
 "metadata": {
  "kernelspec": {
   "display_name": "R 4.5",
   "language": "R",
   "name": "r-4.5"
  },
  "language_info": {
   "codemirror_mode": "r",
   "file_extension": ".r",
   "mimetype": "text/x-r-source",
   "name": "R",
   "pygments_lexer": "r",
   "version": "4.5.0"
  }
 },
 "nbformat": 4,
 "nbformat_minor": 5
}
